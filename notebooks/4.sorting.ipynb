{
 "cells": [
  {
   "cell_type": "markdown",
   "metadata": {},
   "source": [
    "# 정렬 (오름차순 기준)\n",
    "\n",
    "## 선택 정렬\n",
    "\n",
    "1. i 번째 원소를 가장 작은 원소라 가정한다.\n",
    "2. 가장 작은 원소와 i+1번째에서 n번째 원소의 크기를 비교하고, 비교 대상이 더 작은 경우 해당 원소가 가장 작은 원소가 된다.\n",
    "3. n번째 원소까지 비교가 완료되면 가장 작은 원소가 i 번째 원소와 자리를 바꾼다.\n",
    "4. 1~3번 단계를 i=1~n-1번째 원소에 대하여 반복한다. "
   ]
  },
  {
   "cell_type": "code",
   "execution_count": 7,
   "metadata": {},
   "outputs": [],
   "source": [
    "obj=[7,5,9,0,3,1,6,2,4,8]\n",
    "\n",
    "for i in range(len(obj)):\n",
    "    smallest=i\n",
    "    for j in range(i+1,len(obj)):\n",
    "        if obj[smallest]>obj[j]:\n",
    "            smallest=j\n",
    "    \n",
    "    obj[i],obj[smallest]= obj[smallest],obj[i]        \n"
   ]
  },
  {
   "cell_type": "code",
   "execution_count": 8,
   "metadata": {},
   "outputs": [
    {
     "name": "stdout",
     "output_type": "stream",
     "text": [
      "[0, 1, 2, 3, 4, 5, 6, 7, 8, 9]\n"
     ]
    }
   ],
   "source": [
    "print(obj)"
   ]
  },
  {
   "cell_type": "markdown",
   "metadata": {},
   "source": [
    "## 삽입 정렬\n",
    "\n",
    "1. 리스트의 두 번째 원소부터 시작하여 왼쪽 원소와 크기를 비교한 뒤, 왼쪽 원소보다 작으면 그 원소의 왼쪽에, 크면 오른쪽에 배치한다.\n",
    "2. 1번 단계를 i=2~n번째 원소까지 반복한다."
   ]
  },
  {
   "cell_type": "code",
   "execution_count": 13,
   "metadata": {},
   "outputs": [
    {
     "name": "stdout",
     "output_type": "stream",
     "text": [
      "[0, 1, 2, 3, 4, 5, 6, 7, 8, 9]\n"
     ]
    }
   ],
   "source": [
    "obj=[7,5,9,0,3,1,6,2,4,8]\n",
    "\n",
    "for i in range(1,len(obj)):\n",
    "    for j in range(i,0,-1):\n",
    "        if obj[j-1] > obj[j]:\n",
    "            obj[j], obj[j-1] = obj[j-1], obj[j]    \n",
    "        else:\n",
    "            break\n",
    "print(obj)"
   ]
  },
  {
   "cell_type": "code",
   "execution_count": null,
   "metadata": {},
   "outputs": [],
   "source": []
  }
 ],
 "metadata": {
  "kernelspec": {
   "display_name": "Python 3.8.13 ('py')",
   "language": "python",
   "name": "python3"
  },
  "language_info": {
   "codemirror_mode": {
    "name": "ipython",
    "version": 3
   },
   "file_extension": ".py",
   "mimetype": "text/x-python",
   "name": "python",
   "nbconvert_exporter": "python",
   "pygments_lexer": "ipython3",
   "version": "3.8.13"
  },
  "orig_nbformat": 4,
  "vscode": {
   "interpreter": {
    "hash": "effe2ab49dd21e174e55fe839f45b8976bf04ef404ef8484871eb734a01585b6"
   }
  }
 },
 "nbformat": 4,
 "nbformat_minor": 2
}
