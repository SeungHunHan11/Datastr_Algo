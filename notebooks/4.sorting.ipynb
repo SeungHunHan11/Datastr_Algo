{
 "cells": [
  {
   "cell_type": "markdown",
   "metadata": {},
   "source": [
    "# 정렬 (오름차순 기준)\n",
    "\n",
    "## 선택 정렬\n",
    "\n",
    "1. i 번째 원소를 가장 작은 원소라 가정한다.\n",
    "2. 가장 작은 원소와 i+1번째에서 n번째 원소의 크기를 비교하고, 비교 대상이 더 작은 경우 해당 원소가 가장 작은 원소가 된다.\n",
    "3. n번째 원소까지 비교가 완료되면 가장 작은 원소가 i 번째 원소와 자리를 바꾼다.\n",
    "4. 1~3번 단계를 i=1~n-1번째 원소에 대하여 반복한다. "
   ]
  },
  {
   "cell_type": "code",
   "execution_count": 7,
   "metadata": {},
   "outputs": [],
   "source": [
    "obj=[7,5,9,0,3,1,6,2,4,8]\n",
    "\n",
    "for i in range(len(obj)):\n",
    "    smallest=i\n",
    "    for j in range(i+1,len(obj)):\n",
    "        if obj[smallest]>obj[j]:\n",
    "            smallest=j\n",
    "    \n",
    "    obj[i],obj[smallest]= obj[smallest],obj[i]        \n"
   ]
  },
  {
   "cell_type": "code",
   "execution_count": 8,
   "metadata": {},
   "outputs": [
    {
     "name": "stdout",
     "output_type": "stream",
     "text": [
      "[0, 1, 2, 3, 4, 5, 6, 7, 8, 9]\n"
     ]
    }
   ],
   "source": [
    "print(obj)"
   ]
  },
  {
   "cell_type": "markdown",
   "metadata": {},
   "source": [
    "## 삽입 정렬\n",
    "\n",
    "1. 리스트의 두 번째 원소부터 시작하여 왼쪽 원소와 크기를 비교한 뒤, 왼쪽 원소보다 작으면 그 원소의 왼쪽에, 크면 오른쪽에 배치한다.\n",
    "2. 1번 단계를 i=2~n번째 원소까지 반복한다."
   ]
  },
  {
   "cell_type": "code",
   "execution_count": 13,
   "metadata": {},
   "outputs": [
    {
     "name": "stdout",
     "output_type": "stream",
     "text": [
      "[0, 1, 2, 3, 4, 5, 6, 7, 8, 9]\n"
     ]
    }
   ],
   "source": [
    "obj=[7,5,9,0,3,1,6,2,4,8]\n",
    "\n",
    "for i in range(1,len(obj)):\n",
    "    for j in range(i,0,-1):\n",
    "        if obj[j-1] > obj[j]:\n",
    "            obj[j], obj[j-1] = obj[j-1], obj[j]    \n",
    "        else:\n",
    "            break\n",
    "print(obj)"
   ]
  },
  {
   "cell_type": "markdown",
   "metadata": {},
   "source": [
    "## 퀵 소트\n",
    "\n",
    "선택, 삽입 정렬보다 시간 복잡도가 낮은 (O(nlog(n))) 정렬 알고리즘이다.\n",
    "\n",
    "1. 기준이 되는 피벗을 하나 선택한다.\n",
    "2. 피벗의 오른쪽을 기준으로 피벗보다 큰 원소를 선택한다.\n",
    "3. 피벗의 왼쪽을 기준으로 피벗보다 작은 원소를 선택한다.\n",
    "4. 2번 3번에서 선택한 원소들이 교차되어 선택되지 않았다면 두 원소의 위치를 바꿔준다.\n",
    "5. 4번 단계에서 두 원소가 교차되어 선택되었다면 멈추고 피벗을 기준으로 작은 집합, 큰 집합으로 나누어 1~5번 단계를 더 이상 반복할 수 없을때까지 정렬한다.\n",
    "\n",
    "피벗을 선택하고 정렬한뒤 집합을 쪼갠다는 관점에서 재귀 함수를 사용하는 것이 적합해 보인다.\n",
    "\n",
    "단 재귀함수의 탈출문은 피벗을 기준으로 쪼개진 부분 집합의 크기가 1일 때 (즉 더 이상 정렬할 수 없을 때) 실행되도록 설정한다. "
   ]
  },
  {
   "cell_type": "code",
   "execution_count": 2,
   "metadata": {},
   "outputs": [
    {
     "name": "stdout",
     "output_type": "stream",
     "text": [
      "[0, 1, 2, 3, 4, 5, 6, 7, 8, 9]\n"
     ]
    }
   ],
   "source": [
    "obj=[7,5,9,0,3,1,6,2,4,8]\n",
    "\n",
    "def quick(array):\n",
    "    \n",
    "    if len(array)<=1: #재귀 함수의 탈출은 입력된 리스트의 길이가 1이하일때\n",
    "        return array\n",
    "    \n",
    "    pivot=array[0]\n",
    "    rest=array[1:]\n",
    "    \n",
    "    smaller=[x for x in rest if x<=pivot]\n",
    "    bigger=[x for x in rest if x>pivot]\n",
    "    \n",
    "    return quick(smaller)+[pivot]+quick(bigger)\n",
    "\n",
    "print(quick(obj))"
   ]
  },
  {
   "cell_type": "code",
   "execution_count": null,
   "metadata": {},
   "outputs": [],
   "source": []
  },
  {
   "cell_type": "markdown",
   "metadata": {},
   "source": [
    "# 실전 문제\n",
    "\n",
    "## 1. 위에서 아래로\n",
    "\n",
    "첫째 줄에 배열의 크기 N이 주어지고 이후 N개의 줄에서 각 배열에 속하는 원소의 값이 주어진다.\n",
    "\n",
    "배열을 내림차순으로 정렬하라."
   ]
  },
  {
   "cell_type": "code",
   "execution_count": 4,
   "metadata": {},
   "outputs": [],
   "source": [
    "N=int(input())\n",
    "\n",
    "L=[]\n",
    "for _ in range(N):\n",
    "    L.append(int(input()))\n",
    "    \n",
    "for i in range(1,N): #삽입 정렬\n",
    "    for j in range(i,0,-1):\n",
    "        if L[j-1]<L[j]:\n",
    "            L[j-1],L[j]=L[j],L[j-1]\n",
    "        else:\n",
    "            break\n",
    "        \n",
    "print(L)"
   ]
  },
  {
   "cell_type": "code",
   "execution_count": 7,
   "metadata": {},
   "outputs": [
    {
     "name": "stdout",
     "output_type": "stream",
     "text": [
      "[27, 15, 12]\n"
     ]
    }
   ],
   "source": [
    "N=int(input())\n",
    "\n",
    "L=[]\n",
    "for _ in range(N):\n",
    "    L.append(int(input()))\n",
    "    \n",
    "for i in range(len(L)): #선택 정렬\n",
    "    max_index=i\n",
    "    for j in range(i+1,len(L)):\n",
    "        if L[max_index]<L[j]:\n",
    "            max_index=j\n",
    "    L[i],L[max_index]=L[max_index],L[i]\n",
    "\n",
    "print(L)"
   ]
  },
  {
   "cell_type": "code",
   "execution_count": 9,
   "metadata": {},
   "outputs": [
    {
     "name": "stdout",
     "output_type": "stream",
     "text": [
      "[27, 15, 12]\n"
     ]
    }
   ],
   "source": [
    "N=int(input())\n",
    "\n",
    "L=[]\n",
    "for _ in range(N):\n",
    "    L.append(int(input()))\n",
    "    \n",
    "def desc_quick(array):\n",
    "    \n",
    "    if len(array)<=1:\n",
    "        return array\n",
    "    \n",
    "    pivot=array[0]\n",
    "    rest=array[1:]\n",
    "    \n",
    "    left=[x for x in rest if x>=pivot]\n",
    "    right=[x for x in rest if x<pivot]\n",
    "    \n",
    "    return desc_quick(left)+[pivot]+desc_quick(right)\n",
    "\n",
    "print(desc_quick(L))"
   ]
  },
  {
   "cell_type": "markdown",
   "metadata": {},
   "source": [
    "## 3. 성적이 낮은 순서로 학생 출력하기\n",
    "\n",
    "N 명의 학생의 이름과 점수가 주어졌을때, 점수가 낮은 순대로 이름을 출력하는 프로그램\n",
    "\n",
    "첫째줄에 학생수\n",
    "나머지 줄에 학생 이름과 점수가 띄어져 주어짐"
   ]
  },
  {
   "cell_type": "code",
   "execution_count": null,
   "metadata": {},
   "outputs": [],
   "source": []
  },
  {
   "cell_type": "code",
   "execution_count": 25,
   "metadata": {},
   "outputs": [
    {
     "data": {
      "text/plain": [
       "['이병규', '박용택', '이진영']"
      ]
     },
     "execution_count": 25,
     "metadata": {},
     "output_type": "execute_result"
    }
   ],
   "source": [
    "N=int(input())\n",
    "\n",
    "data=dict()\n",
    "for _ in range(N):\n",
    "    name,score=input().split()\n",
    "    data[name]=score\n",
    "\n",
    "sorted(data, key=lambda x: x[1])"
   ]
  },
  {
   "cell_type": "markdown",
   "metadata": {},
   "source": [
    "## 4. 두 배열의 원소 교체\n",
    "\n",
    "배열 A와 배열 B의 원소를 K번 교환하여 배열 A의 합을 최대로 만드는 프로그램 작성\n",
    "\n",
    "첫째 줄에 배열의 크기 N과 교환 횟수 K가 주어짐\n",
    "\n",
    "둘째, 셋째 줄에 배열 A와 B의 원소들이 주어짐. \n",
    "\n",
    "풀이: 배열 A는 오름차순, 배열 B는 내림차순으로 정렬한 뒤, 배열 B의 원소가 A의 원소보다 크면 바꾼다.\n",
    "K번 모두 수행할 필요 없이 배열 A의 원소가 B의 원소보다 커지는 인덱스에서 루프문을 멈추면 된다. "
   ]
  },
  {
   "cell_type": "code",
   "execution_count": 26,
   "metadata": {},
   "outputs": [],
   "source": [
    "N,K=map(int,input().split())\n",
    "A=list(map(int,input().split()))\n",
    "B=list(map(int,input().split()))"
   ]
  },
  {
   "cell_type": "code",
   "execution_count": 28,
   "metadata": {},
   "outputs": [],
   "source": [
    "A.sort()\n",
    "B.sort(reverse=True)\n",
    "\n",
    "for i in range(K):\n",
    "    if A[i]<B[i]:\n",
    "        A[i],B[i]=B[i],A[i]\n",
    "    else:\n",
    "        break"
   ]
  },
  {
   "cell_type": "code",
   "execution_count": 29,
   "metadata": {},
   "outputs": [
    {
     "data": {
      "text/plain": [
       "26"
      ]
     },
     "execution_count": 29,
     "metadata": {},
     "output_type": "execute_result"
    }
   ],
   "source": [
    "sum(A)"
   ]
  },
  {
   "cell_type": "code",
   "execution_count": null,
   "metadata": {},
   "outputs": [],
   "source": []
  }
 ],
 "metadata": {
  "kernelspec": {
   "display_name": "Python 3.8.13 ('py')",
   "language": "python",
   "name": "python3"
  },
  "language_info": {
   "codemirror_mode": {
    "name": "ipython",
    "version": 3
   },
   "file_extension": ".py",
   "mimetype": "text/x-python",
   "name": "python",
   "nbconvert_exporter": "python",
   "pygments_lexer": "ipython3",
   "version": "3.8.13"
  },
  "orig_nbformat": 4,
  "vscode": {
   "interpreter": {
    "hash": "effe2ab49dd21e174e55fe839f45b8976bf04ef404ef8484871eb734a01585b6"
   }
  }
 },
 "nbformat": 4,
 "nbformat_minor": 2
}
