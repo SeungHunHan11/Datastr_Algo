{
 "cells": [
  {
   "cell_type": "markdown",
   "metadata": {},
   "source": [
    "## 상하좌우\n",
    "\n",
    "N X N 크기의 정사각형 공간 위에서 L, R, U, D 형식의 이동경로가 주어진다.\n",
    "\n",
    "최초 시작 위치가 1,1일때, 이동경로대로 이동하면 최종 여행가의 좌표를 구하시오\n",
    "\n",
    "제약: 여행가의 좌표는 (N,N)보다 오른쪽 혹은 밑이 될 수 없다"
   ]
  },
  {
   "cell_type": "code",
   "execution_count": 55,
   "metadata": {},
   "outputs": [],
   "source": [
    "N=int(input())\n",
    "routes=input().split()\n",
    "x,y=1,1\n",
    "dx=[0,0,-1,1] # U와 D는 x 좌표 이동\n",
    "dy=[-1,1,0,0] # L과 R은 y좌표 이동\n",
    "types=['L','R','U','D']\n",
    "for i in routes:\n",
    "    for k in range(len(types)):\n",
    "        if i==types[k]:\n",
    "            new_x=x+dx[k] #예: 'L'이면 x에는 0 (이동 X), Y에는 -1 더하기\n",
    "            new_y=y+dy[k] \n",
    "    if new_x < 1 or new_x>N or new_y<1 or new_y>N: #x,y는 평면 밖으로 나가서는 안됨으로 이 경우 건너뛰기\n",
    "        continue\n",
    "    x,y=new_x,new_y # 이동한 좌표가 평면 밖이 아니라면 이동 좌표를 여행가 좌표로 전달"
   ]
  },
  {
   "cell_type": "code",
   "execution_count": 99,
   "metadata": {},
   "outputs": [
    {
     "name": "stdout",
     "output_type": "stream",
     "text": [
      "3 4\n"
     ]
    }
   ],
   "source": [
    "print(x,y)"
   ]
  },
  {
   "cell_type": "markdown",
   "metadata": {},
   "source": [
    "# 시각\n",
    "\n",
    "00시 00분 00초부터 N시 59분 59초까지 모든 시각 중 3이 한번이라도 포함되는 경우의 수를 계산.\n",
    "즉, 시, 분, 초에 3이 하나라도 기록되어 있으면 카운트한다.\n",
    "N이 입력으로 주어진다."
   ]
  },
  {
   "cell_type": "code",
   "execution_count": 1,
   "metadata": {},
   "outputs": [],
   "source": [
    "N=int(input())\n"
   ]
  },
  {
   "cell_type": "code",
   "execution_count": 4,
   "metadata": {},
   "outputs": [
    {
     "name": "stdout",
     "output_type": "stream",
     "text": [
      "11475\n"
     ]
    }
   ],
   "source": [
    "count=0\n",
    "for h in range(N+1):\n",
    "    for m in range(0, 60):\n",
    "        for s in range(60):\n",
    "            if '3' in str(h)+str(m)+str(s):\n",
    "                count+=1\n",
    "print(count)"
   ]
  },
  {
   "cell_type": "markdown",
   "metadata": {},
   "source": [
    "# 왕실의 나이트\n",
    "\n",
    "나이트는 2가지 움직임을 보일 수 있다.\n",
    "\n",
    "1. 수평으로 (좌 혹은 우) 2칸 이동 후 수직으로 1칸 이동 (상 하)\n",
    "2. 수직으로 (상 혹은 하) 2칸 이동 후 수평으로 1칸 (좌 혹은 우) 이동\n",
    "\n",
    "나이트의 포지션이 A~H와 1~8의 조합으로 주어질때, 가능한 이동 경우의 수 계산\n",
    "\n",
    "* 풀이:\n",
    "\n",
    "체스판의 크기를 고려하지 않고 나이트가 움직일 수 있는 총 경우의 수는 8개이다 (4+4)\n",
    "따라서, 위치가 주어졌을때 각 이동을 적용한 뒤 이동 위치를 구한다. 이동 위치가 체스판 밖이면 경우의 수에서 제외한다.\n",
    "\n",
    "입력: A~H사이 알파벳과 1~8 사이 숫자"
   ]
  },
  {
   "cell_type": "code",
   "execution_count": 14,
   "metadata": {},
   "outputs": [
    {
     "name": "stdout",
     "output_type": "stream",
     "text": [
      "2\n"
     ]
    }
   ],
   "source": [
    "pos=input()\n",
    "\n",
    "r=int(pos[1])\n",
    "c=int(ord(pos[0]))-int(ord('a'))+1 # a는 1, H는 8이 된다.\n",
    "\n",
    "moves=[(-2,1),(-1,2),(1,-2),(2,-1),(2,1),(1,2),(-1,2),(-2,1)] #가능한 모든 이동 경로\n",
    "\n",
    "count=0\n",
    "for x in moves: #위치에 가능한 모든 이동 경로를 더한다 \n",
    "    new_r=r+x[0] \n",
    "    new_c=c+x[1]\n",
    "    \n",
    "    if new_r>=1 and new_r<=8 and new_c>=1 and new_c<8: #x, y좌표가 1보다 크거나 같으면서 8보다 작고 같아야 유효한 이동이다.\n",
    "        count+=1\n",
    "\n",
    "print(count)"
   ]
  },
  {
   "cell_type": "markdown",
   "metadata": {},
   "source": [
    "# 게임 개발\n",
    "\n",
    "캐릭터는 N X N 크기의 장소에 있다.\n",
    "캐릭터는 상하좌우로 움직일수 있으며, 바다로는 갈 수 없다.\n",
    "\n",
    "캐릭터는 다음과 같은 매뉴얼로만 움직일 수 있다.\n",
    "\n",
    "1. 캐릭터의 왼쪽 방향에 한 번도 가보지 않은 칸이 있다면 왼쪽으로 회전한 뒤 이동한다. 만약 왼쪽 방향에 가보지 않은 칸이 없다면 왼쪽으로 회전만 한다 \n",
    "2. 같은 위치에서 4번 회전한 후에 모든 방향이 이미 가본 칸이거나 바다인 경우에는 뒤로 이동한다. 만약 뒤가 바다인 경우에는 움직임을 멈춘다.\n",
    "\n",
    "위 매뉴얼을 기준으로 캐릭터가 방문하게 되는 칸의 수를 출력한다.\n",
    "\n",
    "입력: \n",
    "맵의 크기\n",
    "캐릭터의 최초 위치와 바라보고 있는 방향\n",
    "맵의 각 좌표가 육지인지 바다인지 표시 (1=바다, 0=육지)\n",
    "\n",
    "바라보는 방향을 숫자로 표현한다:\n",
    "서: 3\n",
    "남: 2\n",
    "동: 1\n",
    "북: 0"
   ]
  },
  {
   "cell_type": "markdown",
   "metadata": {},
   "source": [
    "1. 캐릭터의 왼쪽 방향에 한 번도 가보지 않은 칸이 있다면 왼쪽으로 회전한 뒤 이동한다. 만약 왼쪽 방향에 가보지 않은 칸이 없다면 왼쪽으로 회전만 한다 \n",
    "2. 같은 위치에서 4번 회전한 후에 모든 방향이 이미 가본 칸이거나 바다인 경우에는 뒤로 이동한다. 만약 뒤가 바다인 경우에는 움직임을 멈춘다."
   ]
  },
  {
   "cell_type": "code",
   "execution_count": null,
   "metadata": {},
   "outputs": [],
   "source": [
    "N,M=list(map(int,input().split()))\n",
    "x,y,direction=map(int,input().split())\n",
    "\n",
    "visited= [[0]*M for _ in range(N)]\n",
    "visited[x][y]=1\n",
    "locations=[]\n",
    "for i in range(N):\n",
    "    locations=list(map(int,input().split()))\n",
    "\n",
    "dx,dy=[-1,0,1,0],[0,1,0,-1]\n",
    "\n",
    "def turn_left():\n",
    "    global direction\n",
    "    direction-=1 #왼쪽으로 회전하면 1씩 줄어들게 된다.\n",
    "    if direction==-1: #북쪽에서 왼쪽으로 회전하면 서쪽이다.\n",
    "        direction=3\n",
    "    \n",
    "\n",
    "count=1 #시작 시점에서 최소 한 칸은 방문 처리되기 때문\n",
    "turn_count=0 #4번 회전하면 뒤로 이동하거나 움직임을 멈추는 것을 반영하기 위함.\n",
    "\n",
    "while True:\n",
    "    turn_left() #우선 왼쪽으로 회전한다.\n",
    "    \n",
    "    new_x=x+dx[direction] #바라보고 있는 방향으로 전진해본다. \n",
    "    new_y=y+dy[direction]\n",
    "    \n",
    "    if visited[new_x][new_y]==0 and locations[new_x][new_y]==0: #왼쪽으로 돌고 전진했을때 육지이면서 한번도 가보지 않은 경우\n",
    "        x=new_x\n",
    "        y=new_y\n",
    "        count+=1\n",
    "        turn_count=0 #전진 한 뒤 회전 횟수 리셋\n",
    "        continue\n",
    "    else:\n",
    "        turn_count+=1 #왼쪽으로 돌고 전진한 곳이 바다이거나 이미 가본 곳이면 왼쪽으로 한 번 더 돈다.\n",
    "    \n",
    "    if turn_count==4: #5번 회전하면 왼래의 방향으로 돌아오기 때문에 의미가 없다.\n",
    "        new_x=x-dx[direction] #동서남북 다 돌아봤는데 갈 곳이 없으면 뒤로 이동\n",
    "        new_y=y-dy[direction]\n",
    "        \n",
    "        if locations[new_x][new_y]==1: #뒤로 이동한 곳이 바다면 종료\n",
    "            break\n",
    "        else:\n",
    "            x=new_x # 뒤오 이동한 곳이 바다가 아니라면 뒤로 이동. \n",
    "            y=new_y\n",
    "            turn_time=0"
   ]
  }
 ],
 "metadata": {
  "kernelspec": {
   "display_name": "Python 3.8.13 ('py')",
   "language": "python",
   "name": "python3"
  },
  "language_info": {
   "codemirror_mode": {
    "name": "ipython",
    "version": 3
   },
   "file_extension": ".py",
   "mimetype": "text/x-python",
   "name": "python",
   "nbconvert_exporter": "python",
   "pygments_lexer": "ipython3",
   "version": "3.8.13"
  },
  "orig_nbformat": 4,
  "vscode": {
   "interpreter": {
    "hash": "effe2ab49dd21e174e55fe839f45b8976bf04ef404ef8484871eb734a01585b6"
   }
  }
 },
 "nbformat": 4,
 "nbformat_minor": 2
}
