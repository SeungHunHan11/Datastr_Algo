{
 "cells": [
  {
   "cell_type": "markdown",
   "metadata": {},
   "source": [
    "* 그리디 알고리즘\n",
    "\n",
    "고객이 물건값을 치루고 점원이 동전을 거슬러줘야한다. 점원에겐 500, 100, 50, 10원의 잔돈이 무한대 있고, 손님의 편의를 위해 가장 적은 수의 동전을 거슬러 주려고 한다.\n",
    "\n",
    "*제약: 점원이 거슬러줘야 하는 잔돈은 항상 10의 배수이다."
   ]
  },
  {
   "cell_type": "code",
   "execution_count": 2,
   "metadata": {},
   "outputs": [],
   "source": [
    "def changes(amount):\n",
    "    types=[500,100,50,10] #동전 종류\n",
    "    count=0\n",
    "    for x in types:\n",
    "        count+=amount//x #가장 단위가 큰 동전부터 시작하여 몇개씩 거슬러주면 되는지 루프로 계산\n",
    "        amount%=x #상위 단위의 동전을 이용하여 최대로 거슬러준 뒤 남은 잔돈\n",
    "        \n",
    "    return count"
   ]
  },
  {
   "cell_type": "code",
   "execution_count": 4,
   "metadata": {},
   "outputs": [
    {
     "data": {
      "text/plain": [
       "6"
      ]
     },
     "execution_count": 4,
     "metadata": {},
     "output_type": "execute_result"
    }
   ],
   "source": [
    "changes(1260)"
   ]
  },
  {
   "cell_type": "markdown",
   "metadata": {},
   "source": [
    "* 큰수의 법칙\n",
    "\n",
    "N 크기의 배열이 주어졌을때, M번 더하여 가장 큰 수를 만드는 알고리즘. \n",
    "\n",
    "첫째 줄에는 N M K가 순서대로 주어지고, 둘째 줄에는 N의 원소가 주어진다. \n",
    "\n",
    "제약: 배열의 특정한 인덱스에 해당하는 수는 연속해서 K번 초과 이용 불가 (동일 숫자 다른 인덱스는 초과 이용 가능)\n",
    "\n",
    "그리디 알고리즘을 이용한다면, 매순간 사용가능한 인덱스 (연속 K번 초과 사용이 되지 않은 원소) 중 가장 큰 원소를 더하면 될 것이다."
   ]
  },
  {
   "cell_type": "code",
   "execution_count": 19,
   "metadata": {},
   "outputs": [],
   "source": [
    "N_list.sort()"
   ]
  },
  {
   "cell_type": "code",
   "execution_count": 30,
   "metadata": {},
   "outputs": [],
   "source": [
    "def big_num():\n",
    "    \n",
    "    N,M,K=map(int,input().split()) #입력 받기\n",
    "    N_list=list(map(int,input().split()))\n",
    "\n",
    "    sums=0\n",
    "    count=0\n",
    "\n",
    "    N_list.sort() #오름차순으로 정렬\n",
    "\n",
    "    for iter in range(M): #M회 덧셈 반복\n",
    "        \n",
    "        if count>=K: #가장 큰 숫자가 K회 사용되면 두번째로 큰 숫자 더하기\n",
    "            count=0\n",
    "            sums+=N_list[N-2]\n",
    "            \n",
    "        else:\n",
    "            sums+=N_list[N-1] #가장 큰 숫자 K회 더하기\n",
    "            count+=1 #가장 큰 숫자 더할때마다 카운트\n",
    "        \n",
    "    \n",
    "    return sums"
   ]
  }
 ],
 "metadata": {
  "kernelspec": {
   "display_name": "Python 3.8.13 ('py')",
   "language": "python",
   "name": "python3"
  },
  "language_info": {
   "codemirror_mode": {
    "name": "ipython",
    "version": 3
   },
   "file_extension": ".py",
   "mimetype": "text/x-python",
   "name": "python",
   "nbconvert_exporter": "python",
   "pygments_lexer": "ipython3",
   "version": "3.8.13"
  },
  "orig_nbformat": 4,
  "vscode": {
   "interpreter": {
    "hash": "effe2ab49dd21e174e55fe839f45b8976bf04ef404ef8484871eb734a01585b6"
   }
  }
 },
 "nbformat": 4,
 "nbformat_minor": 2
}
