{
 "cells": [
  {
   "cell_type": "markdown",
   "metadata": {},
   "source": [
    "* 그리디 알고리즘\n",
    "\n",
    "고객이 물건값을 치루고 점원이 동전을 거슬러줘야한다. 점원에겐 500, 100, 50, 10원의 잔돈이 무한대 있고, 손님의 편의를 위해 가장 적은 수의 동전을 거슬러 주려고 한다.\n",
    "\n",
    "*제약: 점원이 거슬러줘야 하는 잔돈은 항상 10의 배수이다."
   ]
  },
  {
   "cell_type": "code",
   "execution_count": 2,
   "metadata": {},
   "outputs": [],
   "source": [
    "def changes(amount):\n",
    "    types=[500,100,50,10] #동전 종류\n",
    "    count=0\n",
    "    for x in types:\n",
    "        count+=amount//x #가장 단위가 큰 동전부터 시작하여 몇개씩 거슬러주면 되는지 루프로 계산\n",
    "        amount%=x #상위 단위의 동전을 이용하여 최대로 거슬러준 뒤 남은 잔돈\n",
    "        \n",
    "    return count"
   ]
  },
  {
   "cell_type": "code",
   "execution_count": 4,
   "metadata": {},
   "outputs": [
    {
     "data": {
      "text/plain": [
       "6"
      ]
     },
     "execution_count": 4,
     "metadata": {},
     "output_type": "execute_result"
    }
   ],
   "source": [
    "changes(1260)"
   ]
  },
  {
   "cell_type": "markdown",
   "metadata": {},
   "source": [
    "* 큰수의 법칙\n",
    "\n",
    "N 크기의 배열이 주어졌을때, M번 더하여 가장 큰 수를 만드는 알고리즘. \n",
    "\n",
    "첫째 줄에는 N M K가 순서대로 주어지고, 둘째 줄에는 N의 원소가 주어진다. \n",
    "\n",
    "제약: 배열의 특정한 인덱스에 해당하는 수는 연속해서 K번 초과 이용 불가 (동일 숫자 다른 인덱스는 초과 이용 가능)\n",
    "\n",
    "그리디 알고리즘을 이용한다면, 매순간 사용가능한 인덱스 (연속 K번 초과 사용이 되지 않은 원소) 중 가장 큰 원소를 더하면 될 것이다."
   ]
  },
  {
   "cell_type": "code",
   "execution_count": 19,
   "metadata": {},
   "outputs": [],
   "source": [
    "N_list.sort()"
   ]
  },
  {
   "cell_type": "code",
   "execution_count": 30,
   "metadata": {},
   "outputs": [],
   "source": [
    "def big_num():\n",
    "    \n",
    "    N,M,K=map(int,input().split()) #입력 받기\n",
    "    N_list=list(map(int,input().split()))\n",
    "\n",
    "    sums=0\n",
    "    count=0\n",
    "\n",
    "    N_list.sort() #오름차순으로 정렬\n",
    "\n",
    "    for iter in range(M): #M회 덧셈 반복\n",
    "        \n",
    "        if count>=K: #가장 큰 숫자가 K회 사용되면 두번째로 큰 숫자 더하기\n",
    "            count=0\n",
    "            sums+=N_list[N-2]\n",
    "            \n",
    "        else:\n",
    "            sums+=N_list[N-1] #가장 큰 숫자 K회 더하기\n",
    "            count+=1 #가장 큰 숫자 더할때마다 카운트\n",
    "        \n",
    "    \n",
    "    return sums"
   ]
  },
  {
   "cell_type": "markdown",
   "metadata": {},
   "source": [
    "* 숫자 카드 게임\n",
    "\n",
    "N * M 숫자 행렬이 주어졌다.\n",
    "N개의 행 중 하나의 행을 고른다.\n",
    "선택한 행에서 가장 작은 숫자 카드를 고른다.\n",
    "최종적으로 선택하게 될 카드가 가장 크도록 만드는 알고리즘을 구한다.\n",
    "\n",
    "풀이 방식:\n",
    "\n",
    "각 행에서 가장 작은 숫자를 고른다 (최종적으로 이들만이 선택할 수 있는 옵션이기 때문이다)\n",
    "위에서 구한 집합에서 가장 큰 숫자를 고른다.\n",
    "\n",
    "첫째줄에 숫자 카드 행렬의 행과 열이 주어진다.\n",
    "그 뒤에 줄에는 각 행의 숫자 카드 배열이 행의 개수만큼 주어진다."
   ]
  },
  {
   "cell_type": "code",
   "execution_count": 4,
   "metadata": {},
   "outputs": [],
   "source": [
    "def cards():\n",
    "    row,col=map(int,input().split())\n",
    "    min_list=[]\n",
    "    for iter in range(row):\n",
    "        card=list(map(int,input().split()))\n",
    "        min_list.append(min(card))\n",
    "    \n",
    "    return max(min_list)\n",
    "    "
   ]
  },
  {
   "cell_type": "code",
   "execution_count": 5,
   "metadata": {},
   "outputs": [
    {
     "data": {
      "text/plain": [
       "2"
      ]
     },
     "execution_count": 5,
     "metadata": {},
     "output_type": "execute_result"
    }
   ],
   "source": [
    "cards()"
   ]
  },
  {
   "cell_type": "markdown",
   "metadata": {},
   "source": [
    "* 1이 될 때까지\n",
    "\n",
    "2와 10만 사이 자연수 N과 N보다 작거나 같은 K가 주어졌다.\n",
    "\n",
    "1. N에서 1을 뺀다.\n",
    "2. N을 K로 나눈다.\n",
    "\n",
    "위 두 연산만 가능하다는 제약 하에서 N을 1로 만들기까지 몇번의 연산이 걸리는지 출력하는 알고리즘을 만든다.\n",
    "\n",
    "입력으론 N과 K가 순서대로 주어진다.\n",
    "\n",
    "풀이: N이 K로 나누어떨어질때는 1을 빼는 것보다 K로 나누는 것이 N을 1로 만드는데 더욱 적은 과정이 걸린다.\n",
    "\n",
    "따라서, N이 K로 나누어떨어지지 않을때는 N이 K의 배수가 될때까지 1을 뺀다. N를 K로 나눈 값이 K의 배수가 아니라면 K의 배수가 될때까지 1을 뺀다. 위 프로세스를 반복하면 1에 도달하게 된다.\n",
    "\n",
    "따라서, 크게 3가지 케이스를 고려할 수 있다.\n",
    "\n",
    "1. N>=K 이면서 K의 배수가 아닌 경우 -> N이 K의 배수가 될때까지 (즉, N%k==0일떄까지) 1을 뺀다.\n",
    "2. N>=K 이면서 K의 배수인 경우-> N을 K로 나눈다.\n",
    "3. N<K 인 경우에는 K로 나눌 수 없고, 1을 계속 빼도 K의 배수로 만들 수 없기 때문에 N을 1이 될 때까지 1을 뺀다. "
   ]
  },
  {
   "cell_type": "code",
   "execution_count": 3,
   "metadata": {},
   "outputs": [],
   "source": [
    "def onenum():\n",
    "    N, K = map(int, input().split())\n",
    "    print(N,K)\n",
    "    count=0\n",
    "\n",
    "    while N>=K: #N>=K, 즉 N이 K로 나누어질 수 있을때 루프 반복\n",
    "        if N%K!=0: # N이 K의 배수가 아닐때 K의 배수가 될때까지 1을 빼기\n",
    "            N-=1\n",
    "            count+=1 # trial 횟수 추가\n",
    "            \n",
    "        else:\n",
    "            N/=K # N이 K의 배수일땐 N을 K로 나눈다\n",
    "            count+=1\n",
    "            \n",
    "\n",
    "    while N>1: #N이 K보다 작아졌을땐 K로 나누는 연산이 불가능, N을 1이 될 때까지 1을 빼준다.\n",
    "        N-=1\n",
    "        count+=1\n",
    "        \n",
    "    return count"
   ]
  },
  {
   "cell_type": "code",
   "execution_count": 5,
   "metadata": {},
   "outputs": [
    {
     "name": "stdout",
     "output_type": "stream",
     "text": [
      "25 3\n"
     ]
    },
    {
     "data": {
      "text/plain": [
       "6"
      ]
     },
     "execution_count": 5,
     "metadata": {},
     "output_type": "execute_result"
    }
   ],
   "source": [
    "onenum()"
   ]
  }
 ],
 "metadata": {
  "kernelspec": {
   "display_name": "Python 3.8.13 ('py')",
   "language": "python",
   "name": "python3"
  },
  "language_info": {
   "codemirror_mode": {
    "name": "ipython",
    "version": 3
   },
   "file_extension": ".py",
   "mimetype": "text/x-python",
   "name": "python",
   "nbconvert_exporter": "python",
   "pygments_lexer": "ipython3",
   "version": "3.8.13"
  },
  "orig_nbformat": 4,
  "vscode": {
   "interpreter": {
    "hash": "effe2ab49dd21e174e55fe839f45b8976bf04ef404ef8484871eb734a01585b6"
   }
  }
 },
 "nbformat": 4,
 "nbformat_minor": 2
}
