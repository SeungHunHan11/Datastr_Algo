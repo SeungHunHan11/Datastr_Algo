{
 "cells": [
  {
   "cell_type": "markdown",
   "metadata": {},
   "source": [
    "따라서 DFS 알고리즘이 가지는 아래 태스크를 수행하게 되면 원하는 결과를 얻을 수 있게 된다.\n",
    "\n",
    "1. 탐색 시작 노드를 스택에 삽입하고 방문 처리 한다.\n",
    "2. 스택의 최상단 노드(가장 먼저 삽입된 노드)에 방문하지 않은 인접 노드가 있다면 스택에 삽입하고 방문 처리한다. 스택의 최상단 노드에 방문하지 않은 인접 노드가 없으면 스택에서 삭제한다.\n",
    "3. 2번을 수행할 수 없을때 까지 반복한다 (시작 노드마저 삭제 되어 최상단 노드가 없는 경우)\n",
    "\n",
    "인접한 노드에 방문하기 위해서는 다음 조건을 만족해야 한다\n",
    "\n",
    "1. 이전에 방문한 노드가 아닐 것\n",
    "2. 주어진 지도 안에 위치할 것\n",
    "\n",
    "따라서, 지도 상의 좌표를 하나하나 다 방문하면서, 인접한 노드가 위 두 조건 중 하나라도 만족하지 못한다면 아이스크림을 생성하지 못하는 것이다."
   ]
  },
  {
   "cell_type": "code",
   "execution_count": 2,
   "metadata": {},
   "outputs": [],
   "source": [
    "N,M=map(int,input().split())"
   ]
  },
  {
   "cell_type": "code",
   "execution_count": 17,
   "metadata": {},
   "outputs": [],
   "source": [
    "graph=[]\n",
    "\n",
    "for k in range(N):\n",
    "    graph.append(list(map(int,input())))\n",
    "    \n",
    "def dfs(x,y):\n",
    "    if x<=-1 or x>=N or y<=-1 or y>=M: #방문한 노드가 지도 위에 있지 않은 경우 패스\n",
    "        return False\n",
    "    \n",
    "    if graph[x][y]==0: #방문한 노드가 0이면 해당 노드 상하좌우 방문\n",
    "    \n",
    "        graph[x][y]=1 #이번에 방문한 노드를 0에서 1로 바꿔주기\n",
    "        \n",
    "        dfs(x-1,y) #좌노드 방문\n",
    "        dfs(x+1,y) #우노드 방문\n",
    "        dfs(x,y-1)\n",
    "        dfs(x,y+1)\n",
    "        \n",
    "        return True\n",
    "    \n",
    "    return False #방문한 노드가 1이면 별다른 행동 취하지 않음\n",
    "    \n",
    "count=0\n",
    "\n",
    "for i in range(N):\n",
    "    for j in range(M): #지도상 모든 좌표에 대해 반복문 수행. 따라서, O(N*M)의 시간복잡도를 가짐\n",
    "        if dfs(i,j)==True: #함수를 수행했을때 True가 반환되는 경우는 해당 노드가 0인경우\n",
    "            count+=1 #따라서, dfs의 반환값이 true면 만들 수 있는 아이스크림 개수에 1을 더한다.\n",
    "        \n",
    "            "
   ]
  },
  {
   "cell_type": "code",
   "execution_count": 18,
   "metadata": {},
   "outputs": [
    {
     "name": "stdout",
     "output_type": "stream",
     "text": [
      "3\n"
     ]
    }
   ],
   "source": [
    "print(count)"
   ]
  },
  {
   "cell_type": "markdown",
   "metadata": {},
   "source": [
    "지도가 \n",
    "\n",
    "0 0 1 1 0\n",
    "\n",
    "0 0 0 1 1\n",
    "\n",
    "1 1 1 1 1\n",
    "\n",
    "0 0 0 0 0\n",
    "\n",
    "로 주어지고, 1,1을 최초로 방문한다 하자.\n",
    "\n",
    "알고리즘 상에서 가장 먼저 1,1이 지도 내에 있는 곳인지 확인한다.\n",
    "1,1은 지도 상에 있기 때문에 다음 단계로 이동한다.\n",
    "1,1에 해당하는 노드의 숫자가 0인지 확인한다.\n",
    "노드는 0을 기록하고 있기 때문에 조건문 내 코드를 수행한다.\n",
    "\n",
    "1. 1,1 노드의 숫자를 0->1로 변경\n",
    "2. 좌측 노드로 이동하여 위와 똑같은 단계 수행\n",
    "3. 1,1 좌측 노드는 지도 밖이기 때문에 False를 반환하고 종료\n",
    "4. 우측 노드로 이동하여 위와 똑같은 단계 수행\n",
    "5. 우측 노드 (2,1) 는 지도 내면서 방문하지 않은 노드, 따라서 조건문 내 코드 수행\n",
    "6. 노드가 3,2에 도달하면 상하좌우가 모두 1이기 때문에 재귀함수는 연달아 종료되고, 1,1 노드에서 시작한 함수가 종료된다.\n",
    "\n",
    "결과적으로, 1,1->2,1->2,2->1,2->3,2를 거치고, BFS 알고리즘에서 봤듯, 더 이상 수행 가능한 태스크가 없으면 가장 최근에 추가된 자료부터 스택에서 제거되어 최종적으론 가장 먼저 입력된 1,1이 제거되면 알고리즈이 종료된다.\n"
   ]
  },
  {
   "cell_type": "markdown",
   "metadata": {},
   "source": [
    "# 음료 얼려 먹기 BFS 알고리즘 풀이\n",
    "\n",
    "음료 얼려 먹기 문제는 탐색 문제이다.\n",
    "\n",
    "탐색문제는 DFS외에도 BFS로 풀 수 있기 때문에 추가 풀이를 작성한다.\n",
    "\n",
    "DFS 케이스 때는 입력된 최초 노드에 연결된, 조건에 부합하는 노드를 하나하나 방문하고, 더 이상 조건에 부합하는 노드가 없을때 재귀함수가 종료되었다.\n",
    "\n",
    "BFS는 큐를 이용하기 때문에 가장 가까운 노드를 하나씩 살펴보고, 먼저 추가된 노드를 제거해가면서 마침내 큐에 노드가 남아있지 않을 때까지 반복한다.\n",
    "\n",
    "즉, 아래 단계를 거치면 음료 얼려 먹기를 BFS 알고리즘으로 풀이할 수 있다.\n",
    "\n",
    "1. 시작 노드를 큐에 넣고 방문 처리한다.\n",
    "2. 최상단 노드를 삭제하고 최상단 노드에 연결된 노드 중 방문하지 않은 노드를 큐에 삽입하고 방문 처리한다. \n",
    "3. 큐에 남은 노드가 없을 때까지 2번 과정을 반복한다."
   ]
  },
  {
   "cell_type": "code",
   "execution_count": 46,
   "metadata": {},
   "outputs": [],
   "source": [
    "N,M=map(int,input().split())\n",
    "\n",
    "graph=[]\n",
    "\n",
    "for k in range(N):\n",
    "    graph.append(list(map(int,input())))"
   ]
  },
  {
   "cell_type": "code",
   "execution_count": 47,
   "metadata": {},
   "outputs": [],
   "source": [
    "from collections import deque\n",
    "\n",
    "dx=[0,0,1,-1] #x 축에서 가능한 움직임\n",
    "dy=[1,-1,0,0] #y 축에서 가능한 움직임\n",
    "\n",
    "def bfs(x,y):\n",
    "    queue=deque() #deque 생성\n",
    "    queue.append((x,y)) #생성한 deque에 시작 노드 입력\n",
    "    \n",
    "    if graph[x][y]==0: #시작 노드가 한 번도 방문한 적이 없으면 조건문 실행 \n",
    "        while queue:\n",
    "            x,y= queue.popleft() \n",
    "            graph[x][y]=1\n",
    "            for i in range(4):\n",
    "                nx=x+dx[i]\n",
    "                ny=y+dy[i]\n",
    "                \n",
    "                if 0<=nx<N and 0<=ny<M and graph[nx][ny]==0:\n",
    "                    queue.append((nx,ny))\n",
    "        \n",
    "        return True\n",
    "\n",
    "count=0\n",
    "for i in range(N):\n",
    "    for j in range(M):\n",
    "        \n",
    "        if bfs(i,j)==True:\n",
    "            count+=1\n",
    "    "
   ]
  },
  {
   "cell_type": "code",
   "execution_count": 48,
   "metadata": {},
   "outputs": [
    {
     "data": {
      "text/plain": [
       "3"
      ]
     },
     "execution_count": 48,
     "metadata": {},
     "output_type": "execute_result"
    }
   ],
   "source": [
    "count"
   ]
  }
 ],
 "metadata": {
  "kernelspec": {
   "display_name": "Python 3.8.13 ('py')",
   "language": "python",
   "name": "python3"
  },
  "language_info": {
   "codemirror_mode": {
    "name": "ipython",
    "version": 3
   },
   "file_extension": ".py",
   "mimetype": "text/x-python",
   "name": "python",
   "nbconvert_exporter": "python",
   "pygments_lexer": "ipython3",
   "version": "3.8.13"
  },
  "orig_nbformat": 4,
  "vscode": {
   "interpreter": {
    "hash": "effe2ab49dd21e174e55fe839f45b8976bf04ef404ef8484871eb734a01585b6"
   }
  }
 },
 "nbformat": 4,
 "nbformat_minor": 2
}
